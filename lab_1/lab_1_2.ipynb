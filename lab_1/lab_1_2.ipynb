{
 "cells": [
  {
   "cell_type": "code",
   "execution_count": 18,
   "id": "f83eb509-46c6-4e2f-b932-d840bbac58c1",
   "metadata": {},
   "outputs": [],
   "source": [
    "GOAL_STATE =  [[1,2,3],[4,5,6],[7,8,0]]\n",
    "\n",
    "#actions \n",
    "# This function return list of possible moves from the current state\n",
    "def get_possible_moves(state):\n",
    "    blank_position = find_blank_position(state)\n",
    "    row, col = blank_position\n",
    "    moves = []\n",
    "    if row > 0:\n",
    "        moves.append(\"up\")\n",
    "    if row < 2:\n",
    "        moves.append(\"down\")\n",
    "    if col > 0:\n",
    "        moves.append(\"left\")\n",
    "    if col < 2:\n",
    "        moves.append(\"right\")\n",
    "    return moves\n",
    "     \n",
    "\n",
    "# succesor function\n",
    "#This function performs a move on the current state\n",
    "def perform_move(state, move):\n",
    "    blank_position = find_blank_position(state)\n",
    "    new_state = [row.copy() for row in state]  # Create a new 2D list\n",
    "    row, col = blank_position\n",
    "\n",
    "    if move == \"up\":\n",
    "        new_state[row][col], new_state[row - 1][col] = new_state[row - 1][col], new_state[row][col]\n",
    "    elif move == \"down\":\n",
    "        new_state[row][col], new_state[row + 1][col] = new_state[row + 1][col], new_state[row][col]\n",
    "    elif move == \"left\":\n",
    "        new_state[row][col], new_state[row][col - 1] = new_state[row][col - 1], new_state[row][col]\n",
    "    else:\n",
    "        new_state[row][col], new_state[row][col + 1] = new_state[row][col + 1], new_state[row][col]\n",
    "\n",
    "    return new_state\n",
    "\n",
    "\n",
    "def find_blank_position(state):\n",
    "    for i, row in enumerate(state):\n",
    "        for j, value in enumerate(row):\n",
    "            if value == 0:\n",
    "                return i, j\n",
    "\n",
    "\n",
    "#This function checks if current state is goal state\n",
    "def is_goal_state(state):\n",
    "  #Check if the current state is teh goal state\n",
    "  return state == GOAL_STATE"
   ]
  }
 ],
 "metadata": {
  "kernelspec": {
   "display_name": "Python 3 (ipykernel)",
   "language": "python",
   "name": "python3"
  },
  "language_info": {
   "codemirror_mode": {
    "name": "ipython",
    "version": 3
   },
   "file_extension": ".py",
   "mimetype": "text/x-python",
   "name": "python",
   "nbconvert_exporter": "python",
   "pygments_lexer": "ipython3",
   "version": "3.11.7"
  }
 },
 "nbformat": 4,
 "nbformat_minor": 5
}
