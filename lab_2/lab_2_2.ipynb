{
 "cells": [
  {
   "cell_type": "code",
   "execution_count": 6,
   "metadata": {
    "id": "-X0UbHI-07XW"
   },
   "outputs": [],
   "source": [
    "import random"
   ]
  },
  {
   "cell_type": "code",
   "execution_count": 7,
   "metadata": {
    "id": "OFx7GXdC1QGH"
   },
   "outputs": [],
   "source": [
    "def generateInstance(n, k, m):\n",
    "\n",
    "  vars = []\n",
    "  for i in range(n):\n",
    "    vars.append((chr(i + 65)))\n",
    "\n",
    "  problem = \"((\"\n",
    "  clause = []\n",
    "\n",
    "  for i in range(k * m):\n",
    "\n",
    "    x = random.choice(vars)\n",
    "    vars.remove(x)\n",
    "    clause.append(x)\n",
    "\n",
    "    if(i % k == k - 1):\n",
    "      while len(clause) != 0:\n",
    "        vars.append(clause.pop(0))\n",
    "\n",
    "    y = random.random()\n",
    "    if y < 0.5:\n",
    "      problem += \"~\"\n",
    "    \n",
    "    problem += x\n",
    "\n",
    "    if i % k == k - 1 and i != (k * m - 1):\n",
    "      problem += \") and (\"\n",
    "    elif i != (k * m - 1):\n",
    "      problem += \" or \"\n",
    "  \n",
    "  problem += \"))\"\n",
    "      \n",
    "  return problem"
   ]
  },
  {
   "cell_type": "code",
   "execution_count": 8,
   "metadata": {
    "colab": {
     "base_uri": "https://localhost:8080/"
    },
    "id": "_0btPkRh22w2",
    "outputId": "ca268cc6-a03e-4a3d-cfef-a99dc97777af"
   },
   "outputs": [
    {
     "name": "stdout",
     "output_type": "stream",
     "text": [
      "Problem  1 :  ((~B or ~A or I) and (~A or K or ~G) and (K or H or ~L) and (~F or D or I))\n",
      "Problem  2 :  ((~G or I or C) and (K or ~A or ~L) and (G or H or ~K) and (~B or ~E or ~K))\n",
      "Problem  3 :  ((E or ~G or D) and (~I or ~K or ~E) and (~B or ~D or ~I) and (~J or F or G))\n",
      "Problem  4 :  ((K or ~I or ~A) and (F or A or L) and (~G or ~J or L) and (~I or ~L or ~H))\n",
      "Problem  5 :  ((L or ~F or ~I) and (~L or ~I or J) and (~D or A or I) and (C or H or ~K))\n",
      "Problem  6 :  ((~E or L or D) and (I or F or ~H) and (~J or D or ~G) and (~C or ~H or A))\n",
      "Problem  7 :  ((~J or K or I) and (~I or ~K or F) and (I or H or G) and (G or L or ~F))\n",
      "Problem  8 :  ((J or A or ~C) and (B or D or K) and (~K or A or ~I) and (D or F or J))\n",
      "Problem  9 :  ((~B or F or ~J) and (C or ~G or E) and (~I or ~A or C) and (G or ~B or K))\n",
      "Problem  10 :  ((J or ~D or K) and (~I or K or L) and (J or K or ~A) and (K or ~B or A))\n"
     ]
    }
   ],
   "source": [
    "for i in range(10):\n",
    "  print(\"Problem \", i+1, \": \", generateInstance(12, 3, 4))\n"
   ]
  }
 ],
 "metadata": {
  "colab": {
   "authorship_tag": "ABX9TyOLBM3z1KvkxSuYGd8RvD9R",
   "include_colab_link": true,
   "provenance": []
  },
  "kernelspec": {
   "display_name": "Python 3 (ipykernel)",
   "language": "python",
   "name": "python3"
  },
  "language_info": {
   "codemirror_mode": {
    "name": "ipython",
    "version": 3
   },
   "file_extension": ".py",
   "mimetype": "text/x-python",
   "name": "python",
   "nbconvert_exporter": "python",
   "pygments_lexer": "ipython3",
   "version": "3.11.7"
  }
 },
 "nbformat": 4,
 "nbformat_minor": 4
}
