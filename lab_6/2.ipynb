{
 "cells": [
  {
   "cell_type": "code",
   "execution_count": 1,
   "id": "b688d4d1-85cc-4a3c-8139-4f9cdf5b3e9f",
   "metadata": {},
   "outputs": [],
   "source": [
    "import pandas as pd\n",
    "import numpy as np\n",
    "from scipy.special import comb"
   ]
  },
  {
   "cell_type": "code",
   "execution_count": 2,
   "id": "926ae82e-91d8-4bb9-bd13-fcfa47589de4",
   "metadata": {},
   "outputs": [],
   "source": [
    "df = pd.read_csv('2020_ten_bent_coins.csv').transpose()"
   ]
  },
  {
   "cell_type": "code",
   "execution_count": 3,
   "id": "11e2fe9b-4a85-4b30-8711-0146e518e3e5",
   "metadata": {},
   "outputs": [],
   "source": [
    "# O being tail and 1 as head\n",
    "# counting number of heads and tails\n",
    "np.random.seed(0)\n",
    "heads = df.sum().to_numpy() #numpy array\n",
    "tails = 100 - heads\n",
    "selected_coin = np.random.randint(0,10,size=(500,)) #creating an array of 500 values with each one having value ranging from 1 to 10\n",
    "_, count_selected_coin = np.unique(selected_coin,return_counts = True) # count of which coin has been selected how many times\n",
    "MLE_vector = np.zeros(10) #maximum likelihood estimation\n"
   ]
  },
  {
   "cell_type": "code",
   "execution_count": 4,
   "id": "ae2b207f-9108-41ca-b854-e4a2641a01f7",
   "metadata": {},
   "outputs": [
    {
     "data": {
      "text/plain": [
       "array([5, 0, 3, 3, 7, 9, 3, 5, 2, 4, 7, 6, 8, 8, 1, 6, 7, 7, 8, 1, 5, 9,\n",
       "       8, 9, 4, 3, 0, 3, 5, 0, 2, 3, 8, 1, 3, 3, 3, 7, 0, 1, 9, 9, 0, 4,\n",
       "       7, 3, 2, 7, 2, 0, 0, 4, 5, 5, 6, 8, 4, 1, 4, 9, 8, 1, 1, 7, 9, 9,\n",
       "       3, 6, 7, 2, 0, 3, 5, 9, 4, 4, 6, 4, 4, 3, 4, 4, 8, 4, 3, 7, 5, 5,\n",
       "       0, 1, 5, 9, 3, 0, 5, 0, 1, 2, 4, 2, 0, 3, 2, 0, 7, 5, 9, 0, 2, 7,\n",
       "       2, 9, 2, 3, 3, 2, 3, 4, 1, 2, 9, 1, 4, 6, 8, 2, 3, 0, 0, 6, 0, 6,\n",
       "       3, 3, 8, 8, 8, 2, 3, 2, 0, 8, 8, 3, 8, 2, 8, 4, 3, 0, 4, 3, 6, 9,\n",
       "       8, 0, 8, 5, 9, 0, 9, 6, 5, 3, 1, 8, 0, 4, 9, 6, 5, 7, 8, 8, 9, 2,\n",
       "       8, 6, 6, 9, 1, 6, 8, 8, 3, 2, 3, 6, 3, 6, 5, 7, 0, 8, 4, 6, 5, 8,\n",
       "       2, 3, 9, 7, 5, 3, 4, 5, 3, 3, 7, 9, 9, 9, 7, 3, 2, 3, 9, 7, 7, 5,\n",
       "       1, 2, 2, 8, 1, 5, 8, 4, 0, 2, 5, 5, 0, 8, 1, 1, 0, 3, 8, 8, 4, 4,\n",
       "       0, 9, 3, 7, 3, 2, 1, 1, 2, 1, 4, 2, 5, 5, 5, 2, 5, 7, 7, 6, 1, 6,\n",
       "       7, 2, 3, 1, 9, 5, 9, 9, 2, 0, 9, 1, 9, 0, 6, 0, 4, 8, 4, 3, 3, 8,\n",
       "       8, 7, 0, 3, 8, 7, 7, 1, 8, 4, 7, 0, 4, 9, 0, 6, 4, 2, 4, 6, 3, 3,\n",
       "       7, 8, 5, 0, 8, 5, 4, 7, 4, 1, 3, 3, 9, 2, 5, 2, 3, 5, 7, 2, 7, 1,\n",
       "       6, 5, 0, 0, 3, 1, 9, 9, 6, 6, 7, 8, 8, 7, 0, 8, 6, 8, 9, 8, 3, 6,\n",
       "       1, 7, 4, 9, 2, 0, 8, 2, 7, 8, 4, 4, 1, 7, 6, 9, 4, 1, 5, 9, 7, 1,\n",
       "       3, 5, 7, 3, 6, 6, 7, 9, 1, 9, 6, 0, 3, 8, 4, 1, 4, 5, 0, 3, 1, 4,\n",
       "       4, 4, 0, 0, 8, 4, 6, 9, 3, 3, 2, 1, 2, 1, 3, 4, 1, 1, 0, 7, 8, 4,\n",
       "       3, 5, 6, 3, 2, 9, 8, 1, 4, 0, 8, 3, 9, 5, 5, 1, 7, 8, 6, 4, 7, 3,\n",
       "       5, 3, 6, 4, 7, 3, 0, 5, 9, 3, 7, 5, 5, 8, 0, 8, 3, 6, 9, 3, 2, 7,\n",
       "       0, 3, 0, 3, 6, 1, 9, 2, 9, 4, 9, 1, 3, 2, 4, 9, 7, 4, 9, 4, 1, 2,\n",
       "       7, 2, 3, 9, 7, 6, 6, 2, 3, 6, 0, 8, 0, 7, 6, 5])"
      ]
     },
     "execution_count": 4,
     "metadata": {},
     "output_type": "execute_result"
    }
   ],
   "source": [
    "selected_coin"
   ]
  },
  {
   "cell_type": "code",
   "execution_count": 5,
   "id": "bbb92b5b-8f60-4d80-ae55-21d9406c2ca9",
   "metadata": {},
   "outputs": [
    {
     "data": {
      "text/plain": [
       "(10,)"
      ]
     },
     "execution_count": 5,
     "metadata": {},
     "output_type": "execute_result"
    }
   ],
   "source": [
    "MLE_vector.shape"
   ]
  },
  {
   "cell_type": "code",
   "execution_count": 6,
   "id": "009cd4e6-c1ae-443c-bb58-e6ca4e3a3baf",
   "metadata": {},
   "outputs": [],
   "source": [
    "for i,j in zip(heads, selected_coin):\n",
    "  MLE_vector[j] += i"
   ]
  },
  {
   "cell_type": "code",
   "execution_count": 7,
   "id": "8ad42846-4082-4e13-9fd8-58f45267af6a",
   "metadata": {},
   "outputs": [],
   "source": [
    "#The MLE vector is then divided by the product of the count of the selected coin and the total number of tosses (100) to obtain the MLE estimates of the unknown bias values.\n",
    "MLE_vector = MLE_vector/(count_selected_coin*100)\n"
   ]
  },
  {
   "cell_type": "code",
   "execution_count": 8,
   "id": "5715cb2e-07ce-4382-9fb8-bf178d3b8450",
   "metadata": {},
   "outputs": [],
   "source": [
    "#A function compute_likelihood is defined to calculate the likelihood of a given observation (number of heads) given the number of tosses and the estimated bias value.\n",
    "def compute_likelihood(obs, n, pheads):\n",
    "\n",
    "    likelihood = comb(n, obs, exact=True)*(pheads**obs)*(1.0-pheads)**(n-obs)\n",
    "\n",
    "    return likelihood"
   ]
  },
  {
   "cell_type": "code",
   "execution_count": 9,
   "id": "1cbeaf88-e741-47b8-9a65-079fe6ff06ba",
   "metadata": {},
   "outputs": [
    {
     "name": "stdout",
     "output_type": "stream",
     "text": [
      "[0.5488135  0.71518937 0.60276338 0.54488318 0.4236548  0.64589411\n",
      " 0.43758721 0.891773   0.96366276 0.38344152]\n",
      "Epoch ->0\n",
      " Theta ->[0.54030055 0.74700458 0.60774813 0.53612429 0.39390495 0.66432208\n",
      " 0.42455597 0.87913902 0.9408577  0.16211897]\n",
      "Epoch ->1\n",
      " Theta ->[0.5302535  0.75955475 0.61332103 0.5258201  0.35874312 0.67708556\n",
      " 0.40729141 0.87384035 0.92352302 0.10546534]\n",
      "Epoch ->2\n",
      " Theta ->[0.52018909 0.76576297 0.61839452 0.5155784  0.31426446 0.68593045\n",
      " 0.39912291 0.87020696 0.9136364  0.08328092]\n",
      "Epoch ->3\n",
      " Theta ->[0.51163503 0.76889438 0.62203863 0.50672204 0.27727676 0.69178149\n",
      " 0.39765551 0.86830699 0.90930678 0.07144459]\n",
      "Epoch ->4\n",
      " Theta ->[0.50591337 0.77056051 0.62378851 0.50050643 0.24532125 0.69564221\n",
      " 0.39109125 0.86756872 0.90765306 0.0584879 ]\n",
      "Epoch ->5\n",
      " Theta ->[0.50177514 0.77150992 0.62403936 0.49571276 0.22302672 0.69828232\n",
      " 0.38031544 0.86742743 0.90706774 0.04969973]\n",
      "Epoch ->6\n",
      " Theta ->[0.49827412 0.77206431 0.62329137 0.49144947 0.20702191 0.70011169\n",
      " 0.36859236 0.86757113 0.90687069 0.044538  ]\n",
      "Epoch ->7\n",
      " Theta ->[0.49486354 0.77237337 0.62188139 0.48714269 0.19357881 0.70134625\n",
      " 0.35755323 0.8678396  0.90680197 0.04040518]\n",
      "Epoch ->8\n",
      " Theta ->[0.49139945 0.77251562 0.61997426 0.48257882 0.18073897 0.70210547\n",
      " 0.34738862 0.86814663 0.90676844 0.03582938]\n",
      "Epoch ->9\n",
      " Theta ->[0.48790436 0.772535   0.61765985 0.47769309 0.16779264 0.70246642\n",
      " 0.33751193 0.86844301 0.90673968 0.03014372]\n",
      "Epoch ->10\n",
      " Theta ->[0.48437903 0.77245793 0.6150036  0.4723681  0.15546467 0.70248497\n",
      " 0.32750971 0.86869972 0.90670787 0.02413786]\n",
      "Epoch ->11\n",
      " Theta ->[0.48082938 0.77230195 0.61204314 0.4664367  0.14469318 0.7022024\n",
      " 0.31791435 0.86889965 0.90667292 0.01925729]\n",
      "Epoch ->12\n",
      " Theta ->[0.47744018 0.77207913 0.60879011 0.45986275 0.13608127 0.70164984\n",
      " 0.30932917 0.86903319 0.90663702 0.01504909]\n"
     ]
    }
   ],
   "source": [
    "np.random.seed(0)\n",
    "p_heads = np.zeros((100,10))\n",
    "p_heads[0]=np.random.random((1,10))\n",
    "print(p_heads[0])\n",
    "#The loop continues until the improvement in the MLE estimates between two consecutive iterations is less than a threshold eps, which is set to 0.01.\n",
    "eps = 0.01\n",
    "improvement = float('inf') #positive infinity\n",
    "epoch = 0\n",
    "while improvement>eps:\n",
    "  expectation = np.zeros((10,500,2))\n",
    "  \n",
    "  for i in range(500):\n",
    "    e_head = heads[i]\n",
    "    e_tail = tails[i]\n",
    "\n",
    "    likelihood = np.zeros(10)\n",
    "\n",
    "    for j in range(10):\n",
    "      likelihood[j]= compute_likelihood(e_head,100,p_heads[epoch][j])\n",
    "    \n",
    "    weights = likelihood/np.sum(likelihood)\n",
    "    for j in range(10):\n",
    "      expectation[j][i] = weights[j]*np.array([e_head,e_tail])\n",
    "  \n",
    "  theta = np.zeros(10)\n",
    "  for i in range(10):\n",
    "    theta[i] = np.sum(expectation[i],axis =0)[0]/np.sum(expectation[i])\n",
    "  \n",
    "  p_heads[epoch+1] = theta\n",
    "  print(f'Epoch ->{epoch}\\n Theta ->{theta}')\n",
    "\n",
    "  improvement = max(abs(p_heads[epoch+1]-p_heads[epoch]))\n",
    "  epoch+=1"
   ]
  },
  {
   "cell_type": "code",
   "execution_count": 10,
   "id": "06e42340-3cf6-46d1-9b5b-6c5256f92b4b",
   "metadata": {},
   "outputs": [
    {
     "name": "stdout",
     "output_type": "stream",
     "text": [
      "1 : 0.477\n",
      "2 : 0.772\n",
      "3 : 0.609\n",
      "4 : 0.460\n",
      "5 : 0.136\n",
      "6 : 0.702\n",
      "7 : 0.309\n",
      "8 : 0.869\n",
      "9 : 0.907\n",
      "10 : 0.015\n"
     ]
    }
   ],
   "source": [
    "#The MLE estimates are stored in the theta variable, which is the final output of the code.\n",
    "for i, j in enumerate(theta): # to get the index as well as value\n",
    "    print(f\"{i+1} : {j:.3f}\")"
   ]
  },
  {
   "cell_type": "code",
   "execution_count": 11,
   "id": "3f3ef6c5-3bad-4934-b542-50afa4170d35",
   "metadata": {},
   "outputs": [
    {
     "data": {
      "text/plain": [
       "array([0.47744018, 0.77207913, 0.60879011, 0.45986275, 0.13608127,\n",
       "       0.70164984, 0.30932917, 0.86903319, 0.90663702, 0.01504909])"
      ]
     },
     "execution_count": 11,
     "metadata": {},
     "output_type": "execute_result"
    }
   ],
   "source": [
    "theta"
   ]
  }
 ],
 "metadata": {
  "kernelspec": {
   "display_name": "Python 3 (ipykernel)",
   "language": "python",
   "name": "python3"
  },
  "language_info": {
   "codemirror_mode": {
    "name": "ipython",
    "version": 3
   },
   "file_extension": ".py",
   "mimetype": "text/x-python",
   "name": "python",
   "nbconvert_exporter": "python",
   "pygments_lexer": "ipython3",
   "version": "3.11.7"
  }
 },
 "nbformat": 4,
 "nbformat_minor": 5
}
