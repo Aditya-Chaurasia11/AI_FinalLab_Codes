{
 "cells": [
  {
   "cell_type": "code",
   "execution_count": 1,
   "id": "5b5becd1-28e4-4de2-9e01-b3453d267404",
   "metadata": {},
   "outputs": [],
   "source": [
    "import numpy as np\n",
    "import re"
   ]
  },
  {
   "cell_type": "code",
   "execution_count": 2,
   "id": "4634b4b9-08e4-4599-9955-6ec38cb9fa1f",
   "metadata": {},
   "outputs": [],
   "source": [
    "# File processing Lowercase + punctuation removal\n",
    "book = 'War_and_Peace.txt'\n",
    "file = open(book, 'r', encoding='utf-8')\n",
    "text = file.read()\n",
    "file.close()\n",
    "\n",
    "text = re.sub(r'[^a-zA-Z]', \" \", text)\n",
    "text = \" \".join(text.split()).lower()[:100000]"
   ]
  },
  {
   "cell_type": "code",
   "execution_count": 3,
   "id": "b1877bf6-bf6a-442e-a9b9-d217d0635493",
   "metadata": {},
   "outputs": [],
   "source": [
    "# Store unique characters\n",
    "dictionary = {}\n",
    "for i in range(26):\n",
    "    dictionary[chr(i + 97)] = i\n",
    "dictionary[\" \"] = 26"
   ]
  },
  {
   "cell_type": "code",
   "execution_count": 4,
   "id": "9aafea86-97bd-4546-abdb-2d6c58346d7f",
   "metadata": {},
   "outputs": [],
   "source": [
    "# Initialization\n",
    "\n",
    "# Observed sequence\n",
    "O = np.zeros(len(text), dtype=int)\n",
    "\n",
    "for i in range(len(text)):\n",
    "    O[i] = dictionary[text[i]]\n",
    "\n",
    "# Initial State\n",
    "pi = np.array(([0.55, 0.45]))\n",
    "# Observable sequence\n",
    "B = np.array([[0.03735, 0.03408, 0.03455, 0.03828, 0.03782, 0.03922, 0.03688, 0.03408, 0.03875, 0.04062, 0.03735, 0.03968, 0.03548, 0.03735, 0.04062, 0.03595, 0.03641, 0.03408, 0.04062, 0.03548, 0.03922, 0.04062, 0.03455, 0.03595, 0.03408, 0.03408, 0.03688],\n",
    "              [0.03909, 0.03537,  0.03537, 0.03909, 0.03583,  0.03630, 0.04048, 0.03537, 0.03816, 0.03909, 0.03490, 0.03723, 0.03537, 0.03909, 0.03397, 0.03397, 0.03816, 0.03676, 0.04048, 0.03443, 0.03537, 0.03955, 0.03816,  0.03723,  0.03769, 0.03955, 0.03397]])\n",
    "\n",
    "# Transition matrix\n",
    "A = np.array([[0.47468, 0.52532], [0.51656, 0.48344]])\n",
    "\n",
    "# Set of possible observations\n",
    "V = np.array(['a', 'b', 'c', 'd', 'e', 'f', 'g', 'h', 'i', 'j', 'k', 'l', 'm', 'n', 'o', 'p', 'q', 'r', 's', 't', 'u', 'v', 'w', 'x', 'y', 'z', ' '])\n",
    "\n",
    "# Set of possible states, Q is hidden\n",
    "# Number of observation symbols\n",
    "M = len(V)\n",
    "\n",
    "# Number of states in the model\n",
    "N = len(A)\n",
    "\n",
    "# Length of observation sequence\n",
    "T = len(O)"
   ]
  },
  {
   "cell_type": "code",
   "execution_count": 5,
   "id": "6d7cf885-46a8-47f1-96db-56485bde24aa",
   "metadata": {},
   "outputs": [],
   "source": [
    "'''\n",
    "Alpha Pass\n",
    "'''\n",
    "def alpha_pass(A1, B1, pi1, O1):\n",
    "    c1 = np.zeros([T, 1])\n",
    "    alpha1 = np.zeros([T, N])\n",
    "    c1[0][0] = 0\n",
    "    for x in range(N):\n",
    "        alpha1[0][x] = pi1[x] * B1[x][O1[0]]\n",
    "        c1[0][0] = c1[0][0] + alpha1[0][x]\n",
    "    c1[0][0] = 1/c1[0][0]\n",
    "    for x in range(N):\n",
    "        alpha1[0][x] = c1[0][0] * alpha1[0][x]\n",
    "\n",
    "    for t in range(1, T):\n",
    "        c1[t][0] = 0\n",
    "        for x in range(N):\n",
    "            alpha1[t][x] = 0\n",
    "            for y in range(N):\n",
    "                alpha1[t][x] = alpha1[t][x] + alpha1[t-1][y] * A1[y][x]\n",
    "            alpha1[t][x] = alpha1[t][x] * B1[x][O1[t]]\n",
    "            c1[t][0] = c1[t][0] + alpha1[t][x]\n",
    "        c1[t][0] = 1/c1[t][0]\n",
    "        for x in range(N):\n",
    "            alpha1[t][x] = c1[t][0] * alpha1[t][x]\n",
    "    return alpha1, c1"
   ]
  },
  {
   "cell_type": "code",
   "execution_count": 6,
   "id": "a8e26387-ad96-4530-91b7-fade4101770f",
   "metadata": {},
   "outputs": [],
   "source": [
    "'''\n",
    "Beta Pass\n",
    "'''\n",
    "def beta_pass(A1, B1, O1, c1):\n",
    "    beta1 = np.zeros([T, N])\n",
    "    for x in range(N):\n",
    "        beta1[T-1][x] = c1[T-1][0]\n",
    "    for t in range(T-2, -1, -1):\n",
    "        for x in range(N):\n",
    "            beta1[t][x] = 0\n",
    "            for y in range(N):\n",
    "                beta1[t][x] = beta1[t][x] + A1[x][y] * B1[y][O1[t + 1]] * beta1[t + 1][y]\n",
    "            beta1[t][x] = c1[t][0] * beta1[t][x]\n",
    "    return beta1"
   ]
  },
  {
   "cell_type": "code",
   "execution_count": 7,
   "id": "17631dc3-ce86-4e60-9ebd-26166cf5435d",
   "metadata": {},
   "outputs": [],
   "source": [
    "'''\n",
    "Gamma Pass\n",
    "'''\n",
    "def gamma_pass(alpha1, beta1, A1, B1, O1):\n",
    "    gamma1 = np.zeros([T, N])\n",
    "    di_gamma1 = np.zeros([T, N, N])\n",
    "    for t in range(T-1):\n",
    "        for x in range(N):\n",
    "            gamma1[t][x] = 0\n",
    "            for y in range(N):\n",
    "                di_gamma1[t][x][y] = alpha1[t][x] * A1[x][y] * B1[y][O1[t + 1]] * beta1[t + 1][y]\n",
    "                gamma1[t][x] = gamma1[t][x] + di_gamma1[t][x][y]\n",
    "    for x in range(N):\n",
    "        gamma1[T-1][x] = alpha1[T-1][x]\n",
    "    return gamma1, di_gamma1"
   ]
  },
  {
   "cell_type": "code",
   "execution_count": 8,
   "id": "0b2280f8-7683-48eb-aabb-dabc9816cd7d",
   "metadata": {},
   "outputs": [],
   "source": [
    "def re_estimate(gamma1, di_gamma1, A1, B1, pi1):\n",
    "    for x in range(N):\n",
    "        pi1[x] = gamma1[0][x]\n",
    "    for x in range(N):\n",
    "        denominator = 0\n",
    "        for t in range(T-1):\n",
    "            denominator = denominator + gamma1[t][x]\n",
    "        for y in range(N):\n",
    "            numerator = 0\n",
    "            for t in range(T-1):\n",
    "                numerator = numerator + di_gamma1[t][x][y]\n",
    "            A1[x][y] = numerator/denominator\n",
    "    for x in range(N):\n",
    "        denominator = 0\n",
    "        for t in range(T):\n",
    "            denominator = denominator + gamma1[t][x]\n",
    "        for y in range(M):\n",
    "            numerator = 0\n",
    "            for t in range(T):\n",
    "                if O[t] == y:\n",
    "                    numerator = numerator + gamma1[t][x]\n",
    "            B1[x][y] = numerator/denominator\n",
    "    return A1, B1, pi1"
   ]
  },
  {
   "cell_type": "code",
   "execution_count": 9,
   "id": "89ae1644-a295-4a50-a90e-1d7dbc53c267",
   "metadata": {},
   "outputs": [],
   "source": [
    "'''\n",
    "Log Probability\n",
    "'''\n",
    "def log_prob(c1):\n",
    "    logProb1 = 0\n",
    "    for x in range(T):\n",
    "        logProb1 = logProb1 + np.log(c1[x][0])\n",
    "    logProb1 = -logProb1\n",
    "    return logProb1"
   ]
  },
  {
   "cell_type": "code",
   "execution_count": 10,
   "id": "d974bddb-dee7-4d48-8300-beccb4d564d5",
   "metadata": {},
   "outputs": [
    {
     "name": "stdout",
     "output_type": "stream",
     "text": [
      "A: \n",
      " [[0.47468 0.52532]\n",
      " [0.51656 0.48344]]\n",
      "B: \n",
      " [['a' '0.03735' '0.03909']\n",
      " ['b' '0.03408' '0.03537']\n",
      " ['c' '0.03455' '0.03537']\n",
      " ['d' '0.03828' '0.03909']\n",
      " ['e' '0.03782' '0.03583']\n",
      " ['f' '0.03922' '0.0363']\n",
      " ['g' '0.03688' '0.04048']\n",
      " ['h' '0.03408' '0.03537']\n",
      " ['i' '0.03875' '0.03816']\n",
      " ['j' '0.04062' '0.03909']\n",
      " ['k' '0.03735' '0.0349']\n",
      " ['l' '0.03968' '0.03723']\n",
      " ['m' '0.03548' '0.03537']\n",
      " ['n' '0.03735' '0.03909']\n",
      " ['o' '0.04062' '0.03397']\n",
      " ['p' '0.03595' '0.03397']\n",
      " ['q' '0.03641' '0.03816']\n",
      " ['r' '0.03408' '0.03676']\n",
      " ['s' '0.04062' '0.04048']\n",
      " ['t' '0.03548' '0.03443']\n",
      " ['u' '0.03922' '0.03537']\n",
      " ['v' '0.04062' '0.03955']\n",
      " ['w' '0.03455' '0.03816']\n",
      " ['x' '0.03595' '0.03723']\n",
      " ['y' '0.03408' '0.03769']\n",
      " ['z' '0.03408' '0.03955']\n",
      " [' ' '0.03688' '0.03397']]\n",
      "pi:  [0.55 0.45]\n",
      "logProb:  -10000000\n"
     ]
    }
   ],
   "source": [
    "# INITIAL\n",
    "oldLogProb = -10000000\n",
    "print(\"A: \\n\", A)\n",
    "print(\"B: \\n\", np.concatenate((V.reshape(1, M), B), axis=0).T)\n",
    "print(\"pi: \", pi)\n",
    "print(\"logProb: \", oldLogProb)"
   ]
  },
  {
   "cell_type": "code",
   "execution_count": 11,
   "id": "ec4dd56e-d46d-4ca2-95ee-206c160d48e1",
   "metadata": {},
   "outputs": [
    {
     "name": "stdout",
     "output_type": "stream",
     "text": [
      "A: \n",
      " [[0.48026893 0.51973107]\n",
      " [0.52229628 0.47770372]]\n",
      "B: \n",
      " [['a' '0.0650332' '0.0696181']\n",
      " ['b' '0.0103124' '0.0109893']\n",
      " ['c' '0.0214131' '0.0224695']\n",
      " ['d' '0.0345775' '0.0362066']\n",
      " ['e' '0.1003477' '0.0971645']\n",
      " ['f' '0.0150525' '0.0143257']\n",
      " ['g' '0.0155683' '0.0174965']\n",
      " ['h' '0.0509223' '0.0541457']\n",
      " ['i' '0.0620849' '0.0625161']\n",
      " ['j' '0.0007938' '0.0007862']\n",
      " ['k' '0.0067203' '0.006439']\n",
      " ['l' '0.0327946' '0.0315424']\n",
      " ['m' '0.0185224' '0.0189587']\n",
      " ['n' '0.0554752' '0.0594546']\n",
      " ['o' '0.0629979' '0.0539197']\n",
      " ['p' '0.0194886' '0.0188699']\n",
      " ['q' '0.0005581' '0.000602']\n",
      " ['r' '0.0461758' '0.0510963']\n",
      " ['s' '0.0488063' '0.0498764']\n",
      " ['t' '0.0695093' '0.0691498']\n",
      " ['u' '0.021594' '0.019962']\n",
      " ['v' '0.0114156' '0.0114044']\n",
      " ['w' '0.0167512' '0.0189944']\n",
      " ['x' '0.004376' '0.0046447']\n",
      " ['y' '0.0144712' '0.0164336']\n",
      " ['z' '0.000347' '0.0004132']\n",
      " [' ' '0.193891' '0.182521']]\n",
      "pi:  [0.5578291 0.4421709]\n",
      "logProb:  -330338.22058958607\n"
     ]
    }
   ],
   "source": [
    "# First Iteration\n",
    "\n",
    "alpha, c = alpha_pass(A, B, pi, O)\n",
    "beta = beta_pass(A, B, O, c)\n",
    "gamma, di_gamma = gamma_pass(alpha, beta, A, B, O)\n",
    "A, B, pi = re_estimate(gamma, di_gamma, A, B, pi)\n",
    "logProb = log_prob(c)\n",
    "\n",
    "print(\"A: \\n\", A)\n",
    "print(\"B: \\n\", np.concatenate((V.reshape(1, M), np.round_(B, decimals=7)), axis=0).T)\n",
    "print(\"pi: \", np.round_(pi, decimals=7))\n",
    "print(\"logProb: \", logProb)"
   ]
  },
  {
   "cell_type": "code",
   "execution_count": 12,
   "id": "dec2a26f-c3e0-4c0c-a688-c42c1828fa91",
   "metadata": {},
   "outputs": [
    {
     "data": {
      "text/plain": [
       "<BarContainer object of 27 artists>"
      ]
     },
     "execution_count": 12,
     "metadata": {},
     "output_type": "execute_result"
    },
    {
     "data": {
      "image/png": "[encoded data removed]",
      "text/plain": [
       "<Figure size 640x480 with 1 Axes>"
      ]
     },
     "metadata": {},
     "output_type": "display_data"
    }
   ],
   "source": [
    "import matplotlib.pyplot as plt\n",
    "PLOT = np.concatenate((V.reshape(1, M), np.round_(B, decimals=7)), axis=0).T\n",
    "plt.bar(PLOT[:, 0], PLOT[:, 1].astype(float), width = 0.4)"
   ]
  },
  {
   "cell_type": "code",
   "execution_count": 13,
   "id": "da16c56a-3657-4d3d-aecd-1d3dca2d52f1",
   "metadata": {},
   "outputs": [
    {
     "data": {
      "text/plain": [
       "<BarContainer object of 27 artists>"
      ]
     },
     "execution_count": 13,
     "metadata": {},
     "output_type": "execute_result"
    },
    {
     "data": {
      "image/png": "[encoded data removed]",
      "text/plain": [
       "<Figure size 640x480 with 1 Axes>"
      ]
     },
     "metadata": {},
     "output_type": "display_data"
    }
   ],
   "source": [
    "import matplotlib.pyplot as plt\n",
    "PLOT = np.concatenate((V.reshape(1, M), np.round_(B, decimals=7)), axis=0).T\n",
    "plt.bar(PLOT[:, 0], PLOT[:, 2].astype(float), width = 0.4)"
   ]
  },
  {
   "cell_type": "code",
   "execution_count": 14,
   "id": "713e529f-2da5-4443-9844-d9fe6a9566f6",
   "metadata": {},
   "outputs": [
    {
     "name": "stdout",
     "output_type": "stream",
     "text": [
      "A: \n",
      " [[0.47900156 0.52099844]\n",
      " [0.5235696  0.4764304 ]]\n",
      "B: \n",
      " [['a' '0.0654623' '0.0691868']\n",
      " ['b' '0.0101386' '0.011164']\n",
      " ['c' '0.0212549' '0.0226285']\n",
      " ['d' '0.0342151' '0.0365707']\n",
      " ['e' '0.1014223' '0.0960845']\n",
      " ['f' '0.0147046' '0.0146754']\n",
      " ['g' '0.0155415' '0.0175234']\n",
      " ['h' '0.0506997' '0.0543693']\n",
      " ['i' '0.0626198' '0.0619786']\n",
      " ['j' '0.000772' '0.0008081']\n",
      " ['k' '0.0066588' '0.0065008']\n",
      " ['l' '0.0325864' '0.0317515']\n",
      " ['m' '0.018213' '0.0192696']\n",
      " ['n' '0.0553697' '0.0595606']\n",
      " ['o' '0.0632704' '0.0536459']\n",
      " ['p' '0.0193989' '0.0189601']\n",
      " ['q' '0.0005421' '0.0006181']\n",
      " ['r' '0.0456102' '0.0516647']\n",
      " ['s' '0.0483333' '0.0503517']\n",
      " ['t' '0.0689676' '0.0696942']\n",
      " ['u' '0.0215088' '0.0200476']\n",
      " ['v' '0.0112578' '0.011563']\n",
      " ['w' '0.0164531' '0.0192939']\n",
      " ['x' '0.0043461' '0.0046747']\n",
      " ['y' '0.0142245' '0.0166816']\n",
      " ['z' '0.0003419' '0.0004183']\n",
      " [' ' '0.1960868' '0.1803144']]\n",
      "pi:  [0.56173 0.43827]\n",
      "logProb:  -284243.9542204271\n"
     ]
    }
   ],
   "source": [
    "# Final Output\n",
    "maxIter = 10\n",
    "for ite in range(maxIter):\n",
    "    alpha, c = alpha_pass(A, B, pi, O)\n",
    "    beta = beta_pass(A, B, O, c)\n",
    "    gamma, di_gamma = gamma_pass(alpha, beta, A, B, O)\n",
    "    A, B, pi = re_estimate(gamma, di_gamma, A, B, pi)\n",
    "    logProb = log_prob(c)\n",
    "\n",
    "print(\"A: \\n\", A)\n",
    "print(\"B: \\n\", np.concatenate((V.reshape(1, M), np.round_(B, decimals=7)), axis=0).T)\n",
    "print(\"pi: \", np.round_(pi, decimals=5))\n",
    "print(\"logProb: \", logProb)"
   ]
  },
  {
   "cell_type": "code",
   "execution_count": 15,
   "id": "db09c4c0-8b1d-4c20-92bd-4e526a51b47e",
   "metadata": {},
   "outputs": [
    {
     "data": {
      "text/plain": [
       "<BarContainer object of 27 artists>"
      ]
     },
     "execution_count": 15,
     "metadata": {},
     "output_type": "execute_result"
    },
    {
     "data": {
      "image/png": "[encoded data removed]",
      "text/plain": [
       "<Figure size 640x480 with 1 Axes>"
      ]
     },
     "metadata": {},
     "output_type": "display_data"
    }
   ],
   "source": [
    "import matplotlib.pyplot as plt\n",
    "PLOT = np.concatenate((V.reshape(1, M), np.round_(B, decimals=7)), axis=0).T\n",
    "\n",
    "plt.bar(PLOT[:, 0], PLOT[:, 1].astype(float), width = 0.4)"
   ]
  }
 ],
 "metadata": {
  "kernelspec": {
   "display_name": "Python 3 (ipykernel)",
   "language": "python",
   "name": "python3"
  },
  "language_info": {
   "codemirror_mode": {
    "name": "ipython",
    "version": 3
   },
   "file_extension": ".py",
   "mimetype": "text/x-python",
   "name": "python",
   "nbconvert_exporter": "python",
   "pygments_lexer": "ipython3",
   "version": "3.11.7"
  }
 },
 "nbformat": 4,
 "nbformat_minor": 5
}
