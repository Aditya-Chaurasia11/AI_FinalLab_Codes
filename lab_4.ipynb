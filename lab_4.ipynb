{
 "cells": [
  {
   "cell_type": "code",
   "execution_count": 7,
   "id": "4ff60754",
   "metadata": {},
   "outputs": [],
   "source": [
    "import math\n",
    "\n",
    "class TicTacToe:\n",
    "    def __init__(self, initial_state):\n",
    "        self.initial_state = initial_state\n",
    "        self.count_states_explored = 0\n",
    "        \n",
    "    def get_valid_actions(self, state):\n",
    "        \"\"\"\n",
    "        Get the list of al possible valid actions.\n",
    "        Algorithm:\n",
    "        All empty spaces can be filled with some value, so all empty positions are the valid positions.\n",
    "        \"\"\"\n",
    "        actions = []\n",
    "        for i in range(3):\n",
    "            for j in range(3):\n",
    "                if state[i][j] == \" \":\n",
    "                    actions.append((i, j))\n",
    "        return actions\n",
    "    \n",
    "    def get_current_state(self):\n",
    "        \"\"\"\n",
    "        Get the current state as a list.\n",
    "        \"\"\"\n",
    "        return self.initial_state\n",
    "    \n",
    "    def get_result(self, state, action):\n",
    "        \"\"\"\n",
    "        Get the resulting state.\n",
    "        Parameter: State, Action\n",
    "        Returns: State\n",
    "        \"\"\"\n",
    "        i, j = action\n",
    "        new_state = [row.copy() for row in state]\n",
    "        new_state[i][j] = \"X\" if self.player(new_state) == \"O\" else \"O\"\n",
    "        return new_state\n",
    "    \n",
    "    def is_terminal(self, state):\n",
    "        \"\"\"\n",
    "        Checks if the state is Terminal or not.\n",
    "        Parameter: State\n",
    "        Returns: Boolean\n",
    "        \"\"\"\n",
    "        return self.utility(state) != 0 or all(all(x != \" \" for x in row) for row in state)\n",
    "    \n",
    "    def player(self, state):\n",
    "        # return the player whose turn it is to move in the given state\n",
    "        \"\"\"\n",
    "        Get the player to move next.\n",
    "        Parameter: State\n",
    "        Returns: \"X\" or \"O\"\n",
    "        \"\"\"\n",
    "        count_x = sum(row.count(\"X\") for row in state)\n",
    "        count_o = sum(row.count(\"O\") for row in state)\n",
    "        return \"X\" if count_x == count_o else \"O\"\n",
    "    \n",
    "    def utility(self, state):\n",
    "        # return the utility value of a terminal state (i.e., the score of the game)\n",
    "        # 1 if X wins, -1 if O wins, 0 if draw or game not over\n",
    "        \"\"\"\n",
    "        Get the utility value for a terminal state.\n",
    "        Returns: 1 if X wins, -1 if o wins or 0 if draw/game not over.\n",
    "        \"\"\"\n",
    "        for i in range(3):\n",
    "            # check rows\n",
    "            if state[i][0] == state[i][1] == state[i][2] and state[i][0] != \" \":\n",
    "                return 1 if state[i][0] == \"X\" else -1\n",
    "            # check columns\n",
    "            if state[0][i] == state[1][i] == state[2][i] and state[0][i] != \" \":\n",
    "                return 1 if state[0][i] == \"X\" else -1\n",
    "        # check diagonals\n",
    "        if state[0][0] == state[1][1] == state[2][2] and state[0][0] != \" \":\n",
    "            return 1 if state[0][0] == \"X\" else -1\n",
    "        if state[0][2] == state[1][1] == state[2][0] and state[0][2] != \" \":\n",
    "            return 1 if state[0][2] == \"X\" else -1\n",
    "        # game not over\n",
    "        return 0\n",
    "    \n",
    "    def max_value(self, state):\n",
    "        \"\"\"\n",
    "        The max value function is for the MAX player.\n",
    "        First it checks if the state is a terminal state.\n",
    "        If it is not a terminal state then we try to find the best possible move for that state.\n",
    "        We can do this by iterating the state space tree for all possible actions on that state.\n",
    "        Returns: Value\n",
    "        \"\"\"\n",
    "        if self.is_terminal(state):\n",
    "            return self.utility(state)\n",
    "        v = -math.inf\n",
    "        for action in self.get_valid_actions(state):\n",
    "            self.count_states_explored += 1\n",
    "            v = max(v, self.min_value(self.get_result(state, action)))\n",
    "        return v\n",
    "    \n",
    "    def min_value(self, state):\n",
    "        \"\"\"\n",
    "        The min value function is for the MIN player.\n",
    "        First it checks if the state is a terminal state.\n",
    "        If it is not a terminal state then we try to find the best possible move for that state.\n",
    "        We can do this by iterating the state space tree for all possible actions on that state.\n",
    "        Returns: Value\n",
    "        \"\"\"\n",
    "        if self.is_terminal(state):\n",
    "            return self.utility(state)\n",
    "        v = math.inf\n",
    "        for action in self.get_valid_actions(state):\n",
    "            self.count_states_explored += 1\n",
    "            v = min(v, self.max_value(self.get_result(state, action)))\n",
    "        return v\n",
    "    \n",
    "    def minimax(self, state):\n",
    "        if self.player(state) == \"X\":\n",
    "            # MAX = X\n",
    "            best_value = -math.inf\n",
    "            best_action = None\n",
    "            for action in self.get_valid_actions(state):\n",
    "                self.count_states_explored += 1\n",
    "                value = self.min_value(self.get_result(state, action))\n",
    "                if value > best_value:\n",
    "                    best_value = value\n",
    "                    best_action = action\n",
    "            return best_action\n",
    "        else:\n",
    "            # MIN = O\n",
    "            best_value = math.inf\n",
    "            best_action = None\n",
    "            for action in self.get_valid_actions(state):\n",
    "                self.count_states_explored += 1\n",
    "                value = self.max_value(self.get_result(state, action))\n",
    "                if value < best_value:\n",
    "                    best_value = value\n",
    "                    best_action = action\n",
    "            return best_action\n"
   ]
  },
  {
   "cell_type": "code",
   "execution_count": 8,
   "id": "1de7f9ac",
   "metadata": {},
   "outputs": [
    {
     "name": "stdout",
     "output_type": "stream",
     "text": [
      "Current state:\n",
      "[[' ', ' ', ' '], [' ', ' ', ' '], [' ', ' ', ' ']]\n"
     ]
    },
    {
     "name": "stdin",
     "output_type": "stream",
     "text": [
      "Enter row:  1\n",
      "Enter column:  1\n"
     ]
    },
    {
     "name": "stdout",
     "output_type": "stream",
     "text": [
      "Computer's move:\n",
      "Current state:\n",
      "[['O', ' ', ' '], [' ', 'X', ' '], [' ', ' ', ' ']]\n"
     ]
    },
    {
     "name": "stdin",
     "output_type": "stream",
     "text": [
      "Enter row:  2\n",
      "Enter column:  2\n"
     ]
    },
    {
     "name": "stdout",
     "output_type": "stream",
     "text": [
      "Computer's move:\n",
      "Current state:\n",
      "[['O', 'O', ' '], [' ', 'X', ' '], [' ', ' ', 'X']]\n"
     ]
    },
    {
     "name": "stdin",
     "output_type": "stream",
     "text": [
      "Enter row:  2\n",
      "Enter column:  0\n"
     ]
    },
    {
     "name": "stdout",
     "output_type": "stream",
     "text": [
      "Computer's move:\n",
      "Final state:\n",
      "[['O', 'O', 'O'], [' ', 'X', ' '], ['X', ' ', 'X']]\n",
      "Utility value: -1\n",
      "States Explored :  2158\n"
     ]
    }
   ],
   "source": [
    "initial_state = [\n",
    "    [\" \", \" \", \" \"],\n",
    "    [\" \", \" \", \" \"],\n",
    "    [\" \", \" \", \" \"],\n",
    "]\n",
    "\n",
    "game = TicTacToe(initial_state)\n",
    "\n",
    "while not game.is_terminal(game.initial_state):\n",
    "    # player's move\n",
    "    print(\"Current state:\")\n",
    "    print(game.initial_state)\n",
    "    i = int(input(\"Enter row: \"))\n",
    "    j = int(input(\"Enter column: \"))\n",
    "    if game.get_current_state()[i][j] == \" \": \n",
    "        game.initial_state[i][j] = \"X\"\n",
    "    else:\n",
    "        print(\"Invalid Move: Retry !!!\")\n",
    "        continue\n",
    "    # computer's move\n",
    "    print(\"Computer's move:\")\n",
    "    action = game.minimax(game.initial_state)\n",
    "    game.initial_state[action[0]][action[1]] = \"O\"\n",
    "\n",
    "# game over\n",
    "print(\"Final state:\")\n",
    "print(game.initial_state)\n",
    "print(\"Utility value:\", game.utility(game.initial_state))\n",
    "print(\"States Explored : \", game.count_states_explored)\n"
   ]
  },
  {
   "cell_type": "code",
   "execution_count": 9,
   "id": "c8914bbc",
   "metadata": {},
   "outputs": [
    {
     "name": "stdout",
     "output_type": "stream",
     "text": [
      "Computer's move:\n",
      "Current state:\n",
      "[[' ', ' ', ' '], [' ', 'X', ' '], [' ', ' ', ' ']]\n"
     ]
    },
    {
     "name": "stdin",
     "output_type": "stream",
     "text": [
      "Enter row:  2\n",
      "Enter column:  2\n"
     ]
    },
    {
     "name": "stdout",
     "output_type": "stream",
     "text": [
      "Computer's move:\n",
      "Current state:\n",
      "[['X', ' ', ' '], [' ', 'X', ' '], [' ', ' ', 'O']]\n"
     ]
    },
    {
     "name": "stdin",
     "output_type": "stream",
     "text": [
      "Enter row:  0\n",
      "Enter column:  2\n"
     ]
    },
    {
     "name": "stdout",
     "output_type": "stream",
     "text": [
      "Computer's move:\n",
      "Current state:\n",
      "[['X', 'X', 'O'], [' ', 'X', ' '], [' ', ' ', 'O']]\n"
     ]
    },
    {
     "name": "stdin",
     "output_type": "stream",
     "text": [
      "Enter row:  2\n",
      "Enter column:  1\n"
     ]
    },
    {
     "name": "stdout",
     "output_type": "stream",
     "text": [
      "Computer's move:\n",
      "Current state:\n",
      "[['X', 'X', 'O'], ['X', 'X', ' '], [' ', 'O', 'O']]\n"
     ]
    },
    {
     "name": "stdin",
     "output_type": "stream",
     "text": [
      "Enter row:  2\n",
      "Enter column:  0\n"
     ]
    },
    {
     "name": "stdout",
     "output_type": "stream",
     "text": [
      "Final state:\n",
      "[['X', 'X', 'O'], ['X', 'X', ' '], ['O', 'O', 'O']]\n",
      "Utility value: -1\n",
      "States Explored :  557456\n"
     ]
    }
   ],
   "source": [
    "# When computer plays first\n",
    "initial_state = [\n",
    "    [\" \", \" \", \" \"],\n",
    "    [\" \", \" \", \" \"],\n",
    "    [\" \", \" \", \" \"],\n",
    "]\n",
    "\n",
    "game = TicTacToe(initial_state)\n",
    "\n",
    "while not game.is_terminal(game.initial_state):\n",
    "    # player's move\n",
    "    # computer's move\n",
    "    print(\"Computer's move:\")\n",
    "    action = game.minimax(game.initial_state)\n",
    "    game.initial_state[action[0]][action[1]] = \"X\"\n",
    "    print(\"Current state:\")\n",
    "    print(game.initial_state)\n",
    "    i = int(input(\"Enter row: \"))\n",
    "    j = int(input(\"Enter column: \"))\n",
    "    if game.get_current_state()[i][j] == \" \": \n",
    "        game.initial_state[i][j] = \"O\"\n",
    "    else:\n",
    "        print(\"Invalid Move: Retry !!!\")\n",
    "        continue\n",
    "    \n",
    "\n",
    "# game over\n",
    "print(\"Final state:\")\n",
    "print(game.initial_state)\n",
    "print(\"Utility value:\", game.utility(game.initial_state))\n",
    "print(\"States Explored : \", game.count_states_explored)"
   ]
  },
  {
   "cell_type": "code",
   "execution_count": 10,
   "id": "5d1215d4",
   "metadata": {},
   "outputs": [],
   "source": [
    "import math\n",
    "\n",
    "class TicTacToe:\n",
    "    def __init__(self, initial_state):\n",
    "        self.initial_state = initial_state\n",
    "        self.count_states_explored = 0\n",
    "        \n",
    "    def get_valid_actions(self, state):\n",
    "        \"\"\"\n",
    "        Get the list of al possible valid actions.\n",
    "        Algorithm:\n",
    "        All empty spaces can be filled with some value, so all empty positions are the valid positions.\n",
    "        \"\"\"\n",
    "        actions = []\n",
    "        for i in range(3):\n",
    "            for j in range(3):\n",
    "                if state[i][j] == \" \":\n",
    "                    actions.append((i, j))\n",
    "        return actions\n",
    "    \n",
    "    def get_current_state(self):\n",
    "        \"\"\"\n",
    "        Get the current state as a list.\n",
    "        \"\"\"\n",
    "        return self.initial_state\n",
    "    \n",
    "    def get_result(self, state, action):\n",
    "        \"\"\"\n",
    "        Get the resulting state.\n",
    "        Parameter: State, Action\n",
    "        Returns: State\n",
    "        \"\"\"\n",
    "        i, j = action\n",
    "        new_state = [row.copy() for row in state]\n",
    "        new_state[i][j] = \"X\" if self.player(new_state) == \"O\" else \"O\"\n",
    "        return new_state\n",
    "    \n",
    "    def is_terminal(self, state):\n",
    "        \"\"\"\n",
    "        Checks if the state is Terminal or not.\n",
    "        Parameter: State\n",
    "        Returns: Boolean\n",
    "        \"\"\"\n",
    "        return self.utility(state) != 0 or all(all(x != \" \" for x in row) for row in state)\n",
    "    \n",
    "    def player(self, state):\n",
    "        # return the player whose turn it is to move in the given state\n",
    "        \"\"\"\n",
    "        Get the player to move next.\n",
    "        Parameter: State\n",
    "        Returns: \"X\" or \"O\"\n",
    "        \"\"\"\n",
    "        count_x = sum(row.count(\"X\") for row in state)\n",
    "        count_o = sum(row.count(\"O\") for row in state)\n",
    "        return \"X\" if count_x == count_o else \"O\"\n",
    "    \n",
    "    def utility(self, state):\n",
    "        # return the utility value of a terminal state (i.e., the score of the game)\n",
    "        # 1 if X wins, -1 if O wins, 0 if draw or game not over\n",
    "        \"\"\"\n",
    "        Get the utility value for a terminal state.\n",
    "        Returns: 1 if X wins, -1 if o wins or 0 if draw/game not over.\n",
    "        \"\"\"\n",
    "        for i in range(3):\n",
    "            # check rows\n",
    "            if state[i][0] == state[i][1] == state[i][2] and state[i][0] != \" \":\n",
    "                return 1 if state[i][0] == \"X\" else -1\n",
    "            # check columns\n",
    "            if state[0][i] == state[1][i] == state[2][i] and state[0][i] != \" \":\n",
    "                return 1 if state[0][i] == \"X\" else -1\n",
    "        # check diagonals\n",
    "        if state[0][0] == state[1][1] == state[2][2] and state[0][0] != \" \":\n",
    "            return 1 if state[0][0] == \"X\" else -1\n",
    "        if state[0][2] == state[1][1] == state[2][0] and state[0][2] != \" \":\n",
    "            return 1 if state[0][2] == \"X\" else -1\n",
    "        # game not over\n",
    "        return 0\n",
    "    \n",
    "    def minimax_alpha_beta(self, state):\n",
    "        if self.player(state) == \"X\":\n",
    "            # X is maximizing player\n",
    "            best_value = -math.inf\n",
    "            best_action = None\n",
    "            for action in self.get_valid_actions(state):\n",
    "                self.count_states_explored += 1\n",
    "                value = self.min_value_alpha_beta(self.get_result(state, action), -math.inf, math.inf)\n",
    "                if value > best_value:\n",
    "                    best_value = value\n",
    "                    best_action = action\n",
    "            return best_action\n",
    "        else:\n",
    "            # O is minimizing player\n",
    "            best_value = math.inf\n",
    "            best_action = None\n",
    "            for action in self.get_valid_actions(state):\n",
    "                self.count_states_explored += 1\n",
    "                value = self.max_value_alpha_beta(self.get_result(state, action), -math.inf, math.inf)\n",
    "                if value < best_value:\n",
    "                    best_value = value\n",
    "                    best_action = action\n",
    "            return best_action\n",
    "    \n",
    "    def max_value_alpha_beta(self, state, alpha, beta):\n",
    "        \"\"\"\n",
    "        The max value function is for the MAX player.\n",
    "        First it checks if the state is a terminal state.\n",
    "        If it is not a terminal state then we try to find the best possible move for that state.\n",
    "        We can do this by iterating the state space tree for all possible actions on that state.\n",
    "        Returns: Value\n",
    "        \"\"\"\n",
    "        if self.is_terminal(state):\n",
    "            return self.utility(state)\n",
    "        v = -math.inf\n",
    "        for action in self.get_valid_actions(state):\n",
    "            self.count_states_explored += 1\n",
    "            v = max(v, self.min_value_alpha_beta(self.get_result(state, action), alpha, beta))\n",
    "            if v >= beta:\n",
    "                return v\n",
    "            alpha = max(alpha, v)\n",
    "        return v\n",
    "    \n",
    "    def min_value_alpha_beta(self, state, alpha, beta):\n",
    "        \"\"\"\n",
    "        The min value function is for the MIN player.\n",
    "        First it checks if the state is a terminal state.\n",
    "        If it is not a terminal state then we try to find the best possible move for that state.\n",
    "        We can do this by iterating the state space tree for all possible actions on that state.\n",
    "        Returns: Value\n",
    "        \"\"\"\n",
    "        if self.is_terminal(state):\n",
    "            return self.utility(state)\n",
    "        v = math.inf\n",
    "        for action in self.get_valid_actions(state):\n",
    "            self.count_states_explored += 1\n",
    "            v = min(v, self.max_value_alpha_beta(self.get_result(state, action), alpha, beta))\n",
    "            if v <= alpha:\n",
    "                return v\n",
    "            beta = min(beta, v)\n",
    "        return v\n",
    "\n"
   ]
  },
  {
   "cell_type": "code",
   "execution_count": 11,
   "id": "86b9afc9",
   "metadata": {},
   "outputs": [
    {
     "name": "stdout",
     "output_type": "stream",
     "text": [
      "Current state:\n",
      "[[' ', ' ', ' '], [' ', ' ', ' '], [' ', ' ', ' ']]\n"
     ]
    },
    {
     "name": "stdin",
     "output_type": "stream",
     "text": [
      "Enter row:  1\n",
      "Enter column:  1\n"
     ]
    },
    {
     "name": "stdout",
     "output_type": "stream",
     "text": [
      "Computer's move:\n",
      "Current state:\n",
      "[['X', ' ', ' '], [' ', 'O', ' '], [' ', ' ', ' ']]\n"
     ]
    },
    {
     "name": "stdin",
     "output_type": "stream",
     "text": [
      "Enter row:  2\n",
      "Enter column:  1\n"
     ]
    },
    {
     "name": "stdout",
     "output_type": "stream",
     "text": [
      "Computer's move:\n",
      "Current state:\n",
      "[['X', ' ', 'X'], [' ', 'O', ' '], [' ', 'O', ' ']]\n"
     ]
    },
    {
     "name": "stdin",
     "output_type": "stream",
     "text": [
      "Enter row:  2\n",
      "Enter column:  2\n"
     ]
    },
    {
     "name": "stdout",
     "output_type": "stream",
     "text": [
      "Computer's move:\n",
      "Current state:\n",
      "[['X', ' ', 'X'], [' ', 'O', 'X'], [' ', 'O', 'O']]\n"
     ]
    },
    {
     "name": "stdin",
     "output_type": "stream",
     "text": [
      "Enter row:  0\n",
      "Enter column:  1\n"
     ]
    },
    {
     "name": "stdout",
     "output_type": "stream",
     "text": [
      "Computer's move:\n",
      "Final state:\n",
      "[['X', 'O', 'X'], ['X', 'O', 'X'], [' ', 'O', 'O']]\n",
      "Utility value: -1\n"
     ]
    }
   ],
   "source": [
    "initial_state = [\n",
    "    [\" \", \" \", \" \"],\n",
    "    [\" \", \" \", \" \"],\n",
    "    [\" \", \" \", \" \"],\n",
    "]\n",
    "game = TicTacToe(initial_state)\n",
    "\n",
    "while not game.is_terminal(game.initial_state):\n",
    "    # player's move\n",
    "    print(\"Current state:\")\n",
    "    print(game.initial_state)\n",
    "    i = int(input(\"Enter row: \"))\n",
    "    j = int(input(\"Enter column: \"))\n",
    "    game.initial_state[i][j] = \"O\"\n",
    "    # computer's move\n",
    "    print(\"Computer's move:\")\n",
    "    action = game.minimax_alpha_beta(game.initial_state)\n",
    "    game.initial_state[action[0]][action[1]] = \"X\"\n",
    "\n",
    "# game over\n",
    "print(\"Final state:\")\n",
    "print(game.initial_state)\n",
    "print(\"Utility value:\", game.utility(game.initial_state))\n"
   ]
  },
  {
   "cell_type": "code",
   "execution_count": 12,
   "id": "6711cd79",
   "metadata": {},
   "outputs": [
    {
     "name": "stdout",
     "output_type": "stream",
     "text": [
      "Computer's move:\n",
      "Current state:\n",
      "[[' ', ' ', ' '], [' ', 'X', ' '], [' ', ' ', ' ']]\n"
     ]
    },
    {
     "name": "stdin",
     "output_type": "stream",
     "text": [
      "Enter row:  2\n",
      "Enter column:  2\n"
     ]
    },
    {
     "name": "stdout",
     "output_type": "stream",
     "text": [
      "Computer's move:\n",
      "Current state:\n",
      "[['X', ' ', ' '], [' ', 'X', ' '], [' ', ' ', 'O']]\n"
     ]
    },
    {
     "name": "stdin",
     "output_type": "stream",
     "text": [
      "Enter row:  0\n",
      "Enter column:  2\n"
     ]
    },
    {
     "name": "stdout",
     "output_type": "stream",
     "text": [
      "Computer's move:\n",
      "Current state:\n",
      "[['X', 'X', 'O'], [' ', 'X', ' '], [' ', ' ', 'O']]\n"
     ]
    },
    {
     "name": "stdin",
     "output_type": "stream",
     "text": [
      "Enter row:  2\n",
      "Enter column:  1\n"
     ]
    },
    {
     "name": "stdout",
     "output_type": "stream",
     "text": [
      "Computer's move:\n",
      "Current state:\n",
      "[['X', 'X', 'O'], ['X', 'X', ' '], [' ', 'O', 'O']]\n"
     ]
    },
    {
     "name": "stdin",
     "output_type": "stream",
     "text": [
      "Enter row:  2\n",
      "Enter column:  0\n"
     ]
    },
    {
     "name": "stdout",
     "output_type": "stream",
     "text": [
      "Final state:\n",
      "[['X', 'X', 'O'], ['X', 'X', ' '], ['O', 'O', 'O']]\n",
      "Utility value: -1\n",
      "States Explored :  21092\n"
     ]
    }
   ],
   "source": [
    "# When computer plays first\n",
    "initial_state = [\n",
    "    [\" \", \" \", \" \"],\n",
    "    [\" \", \" \", \" \"],\n",
    "    [\" \", \" \", \" \"],\n",
    "]\n",
    "\n",
    "game = TicTacToe(initial_state)\n",
    "\n",
    "while not game.is_terminal(game.initial_state):\n",
    "    # player's move\n",
    "    # computer's move\n",
    "    print(\"Computer's move:\")\n",
    "    action = game.minimax_alpha_beta(game.initial_state)\n",
    "    game.initial_state[action[0]][action[1]] = \"X\"\n",
    "    print(\"Current state:\")\n",
    "    print(game.initial_state)\n",
    "    i = int(input(\"Enter row: \"))\n",
    "    j = int(input(\"Enter column: \"))\n",
    "    if game.get_current_state()[i][j] == \" \": \n",
    "        game.initial_state[i][j] = \"O\"\n",
    "    else:\n",
    "        print(\"Invalid Move: Retry !!!\")\n",
    "        continue\n",
    "    \n",
    "\n",
    "# game over\n",
    "print(\"Final state:\")\n",
    "print(game.initial_state)\n",
    "print(\"Utility value:\", game.utility(game.initial_state))\n",
    "print(\"States Explored : \", game.count_states_explored)"
   ]
  },
  {
   "cell_type": "code",
   "execution_count": null,
   "id": "a01469ee",
   "metadata": {},
   "outputs": [],
   "source": []
  }
 ],
 "metadata": {
  "kernelspec": {
   "display_name": "Python 3 (ipykernel)",
   "language": "python",
   "name": "python3"
  },
  "language_info": {
   "codemirror_mode": {
    "name": "ipython",
    "version": 3
   },
   "file_extension": ".py",
   "mimetype": "text/x-python",
   "name": "python",
   "nbconvert_exporter": "python",
   "pygments_lexer": "ipython3",
   "version": "3.11.7"
  }
 },
 "nbformat": 4,
 "nbformat_minor": 5
}
